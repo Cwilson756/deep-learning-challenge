{
  "cells": [
    {
      "cell_type": "markdown",
      "metadata": {
        "id": "ZL0Yj4FxVw5C"
      },
      "source": [
        "## Preprocessing"
      ]
    },
    {
      "cell_type": "code",
      "execution_count": 2,
      "metadata": {
        "colab": {
          "base_uri": "https://localhost:8080/",
          "height": 250
        },
        "id": "OEZiC2U9Vw5L",
        "outputId": "1b143c6a-a0ef-4e9a-95bd-573cacee037e"
      },
      "outputs": [
        {
          "output_type": "execute_result",
          "data": {
            "text/plain": [
              "        EIN                                      NAME APPLICATION_TYPE  \\\n",
              "0  10520599              BLUE KNIGHTS MOTORCYCLE CLUB              T10   \n",
              "1  10531628    AMERICAN CHESAPEAKE CLUB CHARITABLE TR               T3   \n",
              "2  10547893        ST CLOUD PROFESSIONAL FIREFIGHTERS               T5   \n",
              "3  10553066            SOUTHSIDE ATHLETIC ASSOCIATION               T3   \n",
              "4  10556103  GENETIC RESEARCH INSTITUTE OF THE DESERT               T3   \n",
              "\n",
              "        AFFILIATION CLASSIFICATION      USE_CASE  ORGANIZATION  STATUS  \\\n",
              "0       Independent          C1000    ProductDev   Association       1   \n",
              "1       Independent          C2000  Preservation  Co-operative       1   \n",
              "2  CompanySponsored          C3000    ProductDev   Association       1   \n",
              "3  CompanySponsored          C2000  Preservation         Trust       1   \n",
              "4       Independent          C1000     Heathcare         Trust       1   \n",
              "\n",
              "      INCOME_AMT SPECIAL_CONSIDERATIONS  ASK_AMT  IS_SUCCESSFUL  \n",
              "0              0                      N     5000              1  \n",
              "1         1-9999                      N   108590              1  \n",
              "2              0                      N     5000              0  \n",
              "3    10000-24999                      N     6692              1  \n",
              "4  100000-499999                      N   142590              1  "
            ],
            "text/html": [
              "\n",
              "  <div id=\"df-11e4b670-05b4-432e-8253-5b4c53003118\">\n",
              "    <div class=\"colab-df-container\">\n",
              "      <div>\n",
              "<style scoped>\n",
              "    .dataframe tbody tr th:only-of-type {\n",
              "        vertical-align: middle;\n",
              "    }\n",
              "\n",
              "    .dataframe tbody tr th {\n",
              "        vertical-align: top;\n",
              "    }\n",
              "\n",
              "    .dataframe thead th {\n",
              "        text-align: right;\n",
              "    }\n",
              "</style>\n",
              "<table border=\"1\" class=\"dataframe\">\n",
              "  <thead>\n",
              "    <tr style=\"text-align: right;\">\n",
              "      <th></th>\n",
              "      <th>EIN</th>\n",
              "      <th>NAME</th>\n",
              "      <th>APPLICATION_TYPE</th>\n",
              "      <th>AFFILIATION</th>\n",
              "      <th>CLASSIFICATION</th>\n",
              "      <th>USE_CASE</th>\n",
              "      <th>ORGANIZATION</th>\n",
              "      <th>STATUS</th>\n",
              "      <th>INCOME_AMT</th>\n",
              "      <th>SPECIAL_CONSIDERATIONS</th>\n",
              "      <th>ASK_AMT</th>\n",
              "      <th>IS_SUCCESSFUL</th>\n",
              "    </tr>\n",
              "  </thead>\n",
              "  <tbody>\n",
              "    <tr>\n",
              "      <th>0</th>\n",
              "      <td>10520599</td>\n",
              "      <td>BLUE KNIGHTS MOTORCYCLE CLUB</td>\n",
              "      <td>T10</td>\n",
              "      <td>Independent</td>\n",
              "      <td>C1000</td>\n",
              "      <td>ProductDev</td>\n",
              "      <td>Association</td>\n",
              "      <td>1</td>\n",
              "      <td>0</td>\n",
              "      <td>N</td>\n",
              "      <td>5000</td>\n",
              "      <td>1</td>\n",
              "    </tr>\n",
              "    <tr>\n",
              "      <th>1</th>\n",
              "      <td>10531628</td>\n",
              "      <td>AMERICAN CHESAPEAKE CLUB CHARITABLE TR</td>\n",
              "      <td>T3</td>\n",
              "      <td>Independent</td>\n",
              "      <td>C2000</td>\n",
              "      <td>Preservation</td>\n",
              "      <td>Co-operative</td>\n",
              "      <td>1</td>\n",
              "      <td>1-9999</td>\n",
              "      <td>N</td>\n",
              "      <td>108590</td>\n",
              "      <td>1</td>\n",
              "    </tr>\n",
              "    <tr>\n",
              "      <th>2</th>\n",
              "      <td>10547893</td>\n",
              "      <td>ST CLOUD PROFESSIONAL FIREFIGHTERS</td>\n",
              "      <td>T5</td>\n",
              "      <td>CompanySponsored</td>\n",
              "      <td>C3000</td>\n",
              "      <td>ProductDev</td>\n",
              "      <td>Association</td>\n",
              "      <td>1</td>\n",
              "      <td>0</td>\n",
              "      <td>N</td>\n",
              "      <td>5000</td>\n",
              "      <td>0</td>\n",
              "    </tr>\n",
              "    <tr>\n",
              "      <th>3</th>\n",
              "      <td>10553066</td>\n",
              "      <td>SOUTHSIDE ATHLETIC ASSOCIATION</td>\n",
              "      <td>T3</td>\n",
              "      <td>CompanySponsored</td>\n",
              "      <td>C2000</td>\n",
              "      <td>Preservation</td>\n",
              "      <td>Trust</td>\n",
              "      <td>1</td>\n",
              "      <td>10000-24999</td>\n",
              "      <td>N</td>\n",
              "      <td>6692</td>\n",
              "      <td>1</td>\n",
              "    </tr>\n",
              "    <tr>\n",
              "      <th>4</th>\n",
              "      <td>10556103</td>\n",
              "      <td>GENETIC RESEARCH INSTITUTE OF THE DESERT</td>\n",
              "      <td>T3</td>\n",
              "      <td>Independent</td>\n",
              "      <td>C1000</td>\n",
              "      <td>Heathcare</td>\n",
              "      <td>Trust</td>\n",
              "      <td>1</td>\n",
              "      <td>100000-499999</td>\n",
              "      <td>N</td>\n",
              "      <td>142590</td>\n",
              "      <td>1</td>\n",
              "    </tr>\n",
              "  </tbody>\n",
              "</table>\n",
              "</div>\n",
              "      <button class=\"colab-df-convert\" onclick=\"convertToInteractive('df-11e4b670-05b4-432e-8253-5b4c53003118')\"\n",
              "              title=\"Convert this dataframe to an interactive table.\"\n",
              "              style=\"display:none;\">\n",
              "        \n",
              "  <svg xmlns=\"http://www.w3.org/2000/svg\" height=\"24px\"viewBox=\"0 0 24 24\"\n",
              "       width=\"24px\">\n",
              "    <path d=\"M0 0h24v24H0V0z\" fill=\"none\"/>\n",
              "    <path d=\"M18.56 5.44l.94 2.06.94-2.06 2.06-.94-2.06-.94-.94-2.06-.94 2.06-2.06.94zm-11 1L8.5 8.5l.94-2.06 2.06-.94-2.06-.94L8.5 2.5l-.94 2.06-2.06.94zm10 10l.94 2.06.94-2.06 2.06-.94-2.06-.94-.94-2.06-.94 2.06-2.06.94z\"/><path d=\"M17.41 7.96l-1.37-1.37c-.4-.4-.92-.59-1.43-.59-.52 0-1.04.2-1.43.59L10.3 9.45l-7.72 7.72c-.78.78-.78 2.05 0 2.83L4 21.41c.39.39.9.59 1.41.59.51 0 1.02-.2 1.41-.59l7.78-7.78 2.81-2.81c.8-.78.8-2.07 0-2.86zM5.41 20L4 18.59l7.72-7.72 1.47 1.35L5.41 20z\"/>\n",
              "  </svg>\n",
              "      </button>\n",
              "      \n",
              "  <style>\n",
              "    .colab-df-container {\n",
              "      display:flex;\n",
              "      flex-wrap:wrap;\n",
              "      gap: 12px;\n",
              "    }\n",
              "\n",
              "    .colab-df-convert {\n",
              "      background-color: #E8F0FE;\n",
              "      border: none;\n",
              "      border-radius: 50%;\n",
              "      cursor: pointer;\n",
              "      display: none;\n",
              "      fill: #1967D2;\n",
              "      height: 32px;\n",
              "      padding: 0 0 0 0;\n",
              "      width: 32px;\n",
              "    }\n",
              "\n",
              "    .colab-df-convert:hover {\n",
              "      background-color: #E2EBFA;\n",
              "      box-shadow: 0px 1px 2px rgba(60, 64, 67, 0.3), 0px 1px 3px 1px rgba(60, 64, 67, 0.15);\n",
              "      fill: #174EA6;\n",
              "    }\n",
              "\n",
              "    [theme=dark] .colab-df-convert {\n",
              "      background-color: #3B4455;\n",
              "      fill: #D2E3FC;\n",
              "    }\n",
              "\n",
              "    [theme=dark] .colab-df-convert:hover {\n",
              "      background-color: #434B5C;\n",
              "      box-shadow: 0px 1px 3px 1px rgba(0, 0, 0, 0.15);\n",
              "      filter: drop-shadow(0px 1px 2px rgba(0, 0, 0, 0.3));\n",
              "      fill: #FFFFFF;\n",
              "    }\n",
              "  </style>\n",
              "\n",
              "      <script>\n",
              "        const buttonEl =\n",
              "          document.querySelector('#df-11e4b670-05b4-432e-8253-5b4c53003118 button.colab-df-convert');\n",
              "        buttonEl.style.display =\n",
              "          google.colab.kernel.accessAllowed ? 'block' : 'none';\n",
              "\n",
              "        async function convertToInteractive(key) {\n",
              "          const element = document.querySelector('#df-11e4b670-05b4-432e-8253-5b4c53003118');\n",
              "          const dataTable =\n",
              "            await google.colab.kernel.invokeFunction('convertToInteractive',\n",
              "                                                     [key], {});\n",
              "          if (!dataTable) return;\n",
              "\n",
              "          const docLinkHtml = 'Like what you see? Visit the ' +\n",
              "            '<a target=\"_blank\" href=https://colab.research.google.com/notebooks/data_table.ipynb>data table notebook</a>'\n",
              "            + ' to learn more about interactive tables.';\n",
              "          element.innerHTML = '';\n",
              "          dataTable['output_type'] = 'display_data';\n",
              "          await google.colab.output.renderOutput(dataTable, element);\n",
              "          const docLink = document.createElement('div');\n",
              "          docLink.innerHTML = docLinkHtml;\n",
              "          element.appendChild(docLink);\n",
              "        }\n",
              "      </script>\n",
              "    </div>\n",
              "  </div>\n",
              "  "
            ]
          },
          "metadata": {},
          "execution_count": 2
        }
      ],
      "source": [
        "# Import our dependencies\n",
        "from sklearn.model_selection import train_test_split\n",
        "from sklearn.preprocessing import StandardScaler\n",
        "import pandas as pd\n",
        "import tensorflow as tf\n",
        "\n",
        "#  Import and read the charity_data.csv.\n",
        "import pandas as pd \n",
        "application_df = pd.read_csv(\"https://static.bc-edx.com/data/dl-1-2/m21/lms/starter/charity_data.csv\")\n",
        "application_df.head()"
      ]
    },
    {
      "cell_type": "code",
      "execution_count": 3,
      "metadata": {
        "id": "l4hnUvSwVw5P"
      },
      "outputs": [],
      "source": [
        "# Drop the non-beneficial ID columns, 'EIN' and 'NAME'.\n",
        "application_df = application_df.drop(columns=['EIN','NAME'])"
      ]
    },
    {
      "cell_type": "code",
      "execution_count": 4,
      "metadata": {
        "colab": {
          "base_uri": "https://localhost:8080/"
        },
        "id": "JXDh2z9CVw5Q",
        "outputId": "0150ec34-36dc-4ebd-db79-d3a01d5ffec2"
      },
      "outputs": [
        {
          "output_type": "execute_result",
          "data": {
            "text/plain": [
              "APPLICATION_TYPE            17\n",
              "AFFILIATION                  6\n",
              "CLASSIFICATION              71\n",
              "USE_CASE                     5\n",
              "ORGANIZATION                 4\n",
              "STATUS                       2\n",
              "INCOME_AMT                   9\n",
              "SPECIAL_CONSIDERATIONS       2\n",
              "ASK_AMT                   8747\n",
              "IS_SUCCESSFUL                2\n",
              "dtype: int64"
            ]
          },
          "metadata": {},
          "execution_count": 4
        }
      ],
      "source": [
        "# Determine the number of unique values in each column.\n",
        "unique_counts = application_df.nunique()\n",
        "unique_counts"
      ]
    },
    {
      "cell_type": "code",
      "execution_count": 5,
      "metadata": {
        "colab": {
          "base_uri": "https://localhost:8080/"
        },
        "id": "VzDIbFPeVw5R",
        "outputId": "67fd0312-399b-4a32-fc23-20d3815c96ef"
      },
      "outputs": [
        {
          "output_type": "stream",
          "name": "stdout",
          "text": [
            "T3     27037\n",
            "T4      1542\n",
            "T6      1216\n",
            "T5      1173\n",
            "T19     1065\n",
            "T8       737\n",
            "T7       725\n",
            "T10      528\n",
            "T9       156\n",
            "T13       66\n",
            "T12       27\n",
            "T2        16\n",
            "T25        3\n",
            "T14        3\n",
            "T29        2\n",
            "T15        2\n",
            "T17        1\n",
            "Name: APPLICATION_TYPE, dtype: int64\n"
          ]
        }
      ],
      "source": [
        "# Look at APPLICATION_TYPE value counts for binning\n",
        "application_counts = application_df['APPLICATION_TYPE'].value_counts()\n",
        "print(application_counts)"
      ]
    },
    {
      "cell_type": "code",
      "execution_count": 7,
      "metadata": {
        "id": "E_DvA0-OVw5S",
        "outputId": "12f173c4-e39f-4a00-db57-083e803e8a02",
        "colab": {
          "base_uri": "https://localhost:8080/"
        }
      },
      "outputs": [
        {
          "output_type": "execute_result",
          "data": {
            "text/plain": [
              "T3       27037\n",
              "T4        1542\n",
              "T6        1216\n",
              "T5        1173\n",
              "T19       1065\n",
              "T8         737\n",
              "T7         725\n",
              "T10        528\n",
              "Other      276\n",
              "Name: APPLICATION_TYPE, dtype: int64"
            ]
          },
          "metadata": {},
          "execution_count": 7
        }
      ],
      "source": [
        "# Choose a cutoff value and create a list of application types to be replaced\n",
        "# use the variable name `application_types_to_replace`\n",
        "cutoff_value = 500\n",
        "application_types_to_replace = application_counts[application_counts <= cutoff_value].index\n",
        "\n",
        "# Replace in dataframe\n",
        "for app in application_types_to_replace:\n",
        "    application_df['APPLICATION_TYPE'] = application_df['APPLICATION_TYPE'].replace(app,\"Other\")\n",
        "\n",
        "# Check to make sure binning was successful\n",
        "application_df['APPLICATION_TYPE'].value_counts()"
      ]
    },
    {
      "cell_type": "code",
      "execution_count": 8,
      "metadata": {
        "id": "TQCgQQg9Vw5S",
        "outputId": "99a991e5-3602-4758-f3eb-1dbe34a2fb2a",
        "colab": {
          "base_uri": "https://localhost:8080/"
        }
      },
      "outputs": [
        {
          "output_type": "stream",
          "name": "stdout",
          "text": [
            "C1000    17326\n",
            "C2000     6074\n",
            "C1200     4837\n",
            "C3000     1918\n",
            "C2100     1883\n",
            "         ...  \n",
            "C4120        1\n",
            "C8210        1\n",
            "C2561        1\n",
            "C4500        1\n",
            "C2150        1\n",
            "Name: CLASSIFICATION, Length: 71, dtype: int64\n"
          ]
        }
      ],
      "source": [
        "# Look at CLASSIFICATION value counts for binning\n",
        "classification_counts = application_df['CLASSIFICATION'].value_counts()\n",
        "print(classification_counts)"
      ]
    },
    {
      "cell_type": "code",
      "execution_count": 9,
      "metadata": {
        "id": "jhCYWgayVw5T",
        "outputId": "d31404dc-6477-4e3e-8e65-f764c31122ac",
        "colab": {
          "base_uri": "https://localhost:8080/"
        }
      },
      "outputs": [
        {
          "output_type": "stream",
          "name": "stdout",
          "text": [
            "C1000    17326\n",
            "C2000     6074\n",
            "C1200     4837\n",
            "C3000     1918\n",
            "C2100     1883\n",
            "C7000      777\n",
            "C1700      287\n",
            "C4000      194\n",
            "C5000      116\n",
            "C1270      114\n",
            "C2700      104\n",
            "C2800       95\n",
            "C7100       75\n",
            "C1300       58\n",
            "C1280       50\n",
            "C1230       36\n",
            "C1400       34\n",
            "C7200       32\n",
            "C2300       32\n",
            "C1240       30\n",
            "C8000       20\n",
            "C7120       18\n",
            "C1500       16\n",
            "C1800       15\n",
            "C6000       15\n",
            "C1250       14\n",
            "C8200       11\n",
            "C1238       10\n",
            "C1278       10\n",
            "C1235        9\n",
            "C1237        9\n",
            "C7210        7\n",
            "C2400        6\n",
            "C1720        6\n",
            "C4100        6\n",
            "C1257        5\n",
            "C1600        5\n",
            "C1260        3\n",
            "C2710        3\n",
            "C0           3\n",
            "C3200        2\n",
            "C1234        2\n",
            "C1246        2\n",
            "C1267        2\n",
            "C1256        2\n",
            "Name: CLASSIFICATION, dtype: int64\n"
          ]
        }
      ],
      "source": [
        "# You may find it helpful to look at CLASSIFICATION value counts >1\n",
        "filtered_classification_counts = classification_counts[classification_counts > 1]\n",
        "print(filtered_classification_counts)"
      ]
    },
    {
      "cell_type": "code",
      "execution_count": 10,
      "metadata": {
        "id": "Q5cGaapDVw5U",
        "outputId": "7da01834-4839-4cbc-a18f-47c74b1cd570",
        "colab": {
          "base_uri": "https://localhost:8080/"
        }
      },
      "outputs": [
        {
          "output_type": "execute_result",
          "data": {
            "text/plain": [
              "C1000    17326\n",
              "C2000     6074\n",
              "C1200     4837\n",
              "Other     2261\n",
              "C3000     1918\n",
              "C2100     1883\n",
              "Name: CLASSIFICATION, dtype: int64"
            ]
          },
          "metadata": {},
          "execution_count": 10
        }
      ],
      "source": [
        "# Choose a cutoff value and create a list of classifications to be replaced\n",
        "# use the variable name `classifications_to_replace`\n",
        "cutoff_value_classification = 1000\n",
        "classifications_to_replace = classification_counts[classification_counts <= cutoff_value_classification].index\n",
        "\n",
        "# Replace in dataframe\n",
        "for cls in classifications_to_replace:\n",
        "    application_df['CLASSIFICATION'] = application_df['CLASSIFICATION'].replace(cls,\"Other\")\n",
        "    \n",
        "# Check to make sure binning was successful\n",
        "application_df['CLASSIFICATION'].value_counts()"
      ]
    },
    {
      "cell_type": "code",
      "execution_count": 16,
      "metadata": {
        "id": "bgITflP2Vw5W"
      },
      "outputs": [],
      "source": [
        "# Convert categorical data to numeric with `pd.get_dummies`\n",
        "dummy_data = pd.get_dummies(application_df, columns=['APPLICATION_TYPE','AFFILIATION','CLASSIFICATION','USE_CASE','ORGANIZATION','INCOME_AMT','SPECIAL_CONSIDERATIONS'])"
      ]
    },
    {
      "cell_type": "code",
      "execution_count": 19,
      "metadata": {
        "id": "o88CZyhUVw5X"
      },
      "outputs": [],
      "source": [
        "# Split our preprocessed data into our features and target arrays\n",
        "features = dummy_data.drop('IS_SUCCESSFUL', axis=1)\n",
        "target = dummy_data['IS_SUCCESSFUL']\n",
        "\n",
        "# Split the preprocessed data into a training and testing dataset\n",
        "X_train, X_test, y_train, y_test = train_test_split(features, target, test_size=0.2, random_state=42)"
      ]
    },
    {
      "cell_type": "code",
      "execution_count": 20,
      "metadata": {
        "id": "CibSoVkVVw5Z"
      },
      "outputs": [],
      "source": [
        "# Create a StandardScaler instances\n",
        "scaler = StandardScaler()\n",
        "\n",
        "# Fit the StandardScaler\n",
        "X_scaler = scaler.fit(X_train)\n",
        "\n",
        "# Scale the data\n",
        "X_train_scaled = X_scaler.transform(X_train)\n",
        "X_test_scaled = X_scaler.transform(X_test)"
      ]
    },
    {
      "cell_type": "markdown",
      "metadata": {
        "id": "MhHSz7jHVw5a"
      },
      "source": [
        "## Compile, Train and Evaluate the Model"
      ]
    },
    {
      "cell_type": "code",
      "execution_count": 24,
      "metadata": {
        "id": "6tmnpIa9Vw5b",
        "outputId": "11078241-1a1d-46c3-fe9b-b5179ac2b45e",
        "colab": {
          "base_uri": "https://localhost:8080/"
        }
      },
      "outputs": [
        {
          "output_type": "stream",
          "name": "stdout",
          "text": [
            "Model: \"sequential_1\"\n",
            "_________________________________________________________________\n",
            " Layer (type)                Output Shape              Param #   \n",
            "=================================================================\n",
            " dense_3 (Dense)             (None, 80)                3520      \n",
            "                                                                 \n",
            " dense_4 (Dense)             (None, 30)                2430      \n",
            "                                                                 \n",
            " dense_5 (Dense)             (None, 1)                 31        \n",
            "                                                                 \n",
            "=================================================================\n",
            "Total params: 5,981\n",
            "Trainable params: 5,981\n",
            "Non-trainable params: 0\n",
            "_________________________________________________________________\n"
          ]
        }
      ],
      "source": [
        "# Define the model - deep neural net, i.e., the number of input features and hidden nodes for each layer.\n",
        "\n",
        "nn_model = tf.keras.models.Sequential()\n",
        "\n",
        "# First hidden layer\n",
        "nn_model.add(tf.keras.layers.Dense(units=80, activation=\"relu\", input_dim=43))\n",
        "\n",
        "# Second hidden layer\n",
        "nn_model.add(tf.keras.layers.Dense(units=30, activation=\"relu\"))\n",
        "\n",
        "# Output layer\n",
        "nn_model.add(tf.keras.layers.Dense(units=1, activation=\"sigmoid\"))\n",
        "\n",
        "# Check the structure of the model\n",
        "nn_model.summary()"
      ]
    },
    {
      "cell_type": "code",
      "execution_count": 25,
      "metadata": {
        "id": "c-V3RH6cVw5c"
      },
      "outputs": [],
      "source": [
        "# Compile the model\n",
        "nn_model.compile(loss=\"binary_crossentropy\", optimizer=\"adam\", metrics=[\"accuracy\"])"
      ]
    },
    {
      "cell_type": "code",
      "execution_count": 26,
      "metadata": {
        "id": "0q_dwGavVw5d",
        "outputId": "bf81e778-3d76-4a70-a460-17e18462251a",
        "colab": {
          "base_uri": "https://localhost:8080/"
        }
      },
      "outputs": [
        {
          "output_type": "stream",
          "name": "stdout",
          "text": [
            "Epoch 1/100\n",
            "858/858 [==============================] - 3s 2ms/step - loss: 51231.6289 - accuracy: 0.4994\n",
            "Epoch 2/100\n",
            "858/858 [==============================] - 2s 2ms/step - loss: 51932.0273 - accuracy: 0.5046\n",
            "Epoch 3/100\n",
            "858/858 [==============================] - 2s 2ms/step - loss: 38172.2734 - accuracy: 0.5001\n",
            "Epoch 4/100\n",
            "858/858 [==============================] - 2s 2ms/step - loss: 53312.1484 - accuracy: 0.5010\n",
            "Epoch 5/100\n",
            "858/858 [==============================] - 2s 3ms/step - loss: 34392.4531 - accuracy: 0.5040\n",
            "Epoch 6/100\n",
            "858/858 [==============================] - 2s 2ms/step - loss: 7491.3081 - accuracy: 0.5025\n",
            "Epoch 7/100\n",
            "858/858 [==============================] - 2s 2ms/step - loss: 24870.6094 - accuracy: 0.5010\n",
            "Epoch 8/100\n",
            "858/858 [==============================] - 2s 2ms/step - loss: 43149.5898 - accuracy: 0.5053\n",
            "Epoch 9/100\n",
            "858/858 [==============================] - 2s 2ms/step - loss: 17194.7891 - accuracy: 0.5064\n",
            "Epoch 10/100\n",
            "858/858 [==============================] - 2s 2ms/step - loss: 13508.2383 - accuracy: 0.5347\n",
            "Epoch 11/100\n",
            "858/858 [==============================] - 2s 3ms/step - loss: 6945.8052 - accuracy: 0.5274\n",
            "Epoch 12/100\n",
            "858/858 [==============================] - 3s 3ms/step - loss: 10071.0781 - accuracy: 0.5103\n",
            "Epoch 13/100\n",
            "858/858 [==============================] - 2s 2ms/step - loss: 5982.3218 - accuracy: 0.5066\n",
            "Epoch 14/100\n",
            "858/858 [==============================] - 2s 2ms/step - loss: 2760.5422 - accuracy: 0.5072\n",
            "Epoch 15/100\n",
            "858/858 [==============================] - 2s 2ms/step - loss: 1457.8104 - accuracy: 0.5188\n",
            "Epoch 16/100\n",
            "858/858 [==============================] - 2s 2ms/step - loss: 207.8948 - accuracy: 0.5223\n",
            "Epoch 17/100\n",
            "858/858 [==============================] - 2s 2ms/step - loss: 143.8118 - accuracy: 0.5278\n",
            "Epoch 18/100\n",
            "858/858 [==============================] - 2s 2ms/step - loss: 0.6912 - accuracy: 0.5320\n",
            "Epoch 19/100\n",
            "858/858 [==============================] - 2s 3ms/step - loss: 0.6911 - accuracy: 0.5320\n",
            "Epoch 20/100\n",
            "858/858 [==============================] - 2s 2ms/step - loss: 0.6912 - accuracy: 0.5320\n",
            "Epoch 21/100\n",
            "858/858 [==============================] - 2s 2ms/step - loss: 0.6912 - accuracy: 0.5320\n",
            "Epoch 22/100\n",
            "858/858 [==============================] - 2s 2ms/step - loss: 0.6912 - accuracy: 0.5320\n",
            "Epoch 23/100\n",
            "858/858 [==============================] - 2s 2ms/step - loss: 0.6912 - accuracy: 0.5320\n",
            "Epoch 24/100\n",
            "858/858 [==============================] - 2s 2ms/step - loss: 0.6912 - accuracy: 0.5320\n",
            "Epoch 25/100\n",
            "858/858 [==============================] - 2s 2ms/step - loss: 0.6911 - accuracy: 0.5320\n",
            "Epoch 26/100\n",
            "858/858 [==============================] - 2s 2ms/step - loss: 0.6912 - accuracy: 0.5320\n",
            "Epoch 27/100\n",
            "858/858 [==============================] - 2s 3ms/step - loss: 0.6912 - accuracy: 0.5320\n",
            "Epoch 28/100\n",
            "858/858 [==============================] - 2s 2ms/step - loss: 0.6912 - accuracy: 0.5320\n",
            "Epoch 29/100\n",
            "858/858 [==============================] - 2s 2ms/step - loss: 0.6912 - accuracy: 0.5320\n",
            "Epoch 30/100\n",
            "858/858 [==============================] - 2s 2ms/step - loss: 0.6912 - accuracy: 0.5320\n",
            "Epoch 31/100\n",
            "858/858 [==============================] - 2s 2ms/step - loss: 0.6912 - accuracy: 0.5320\n",
            "Epoch 32/100\n",
            "858/858 [==============================] - 2s 2ms/step - loss: 0.6912 - accuracy: 0.5320\n",
            "Epoch 33/100\n",
            "858/858 [==============================] - 2s 2ms/step - loss: 0.6912 - accuracy: 0.5320\n",
            "Epoch 34/100\n",
            "858/858 [==============================] - 2s 3ms/step - loss: 0.6912 - accuracy: 0.5320\n",
            "Epoch 35/100\n",
            "858/858 [==============================] - 2s 2ms/step - loss: 0.6911 - accuracy: 0.5320\n",
            "Epoch 36/100\n",
            "858/858 [==============================] - 2s 2ms/step - loss: 0.6912 - accuracy: 0.5320\n",
            "Epoch 37/100\n",
            "858/858 [==============================] - 2s 2ms/step - loss: 0.6912 - accuracy: 0.5320\n",
            "Epoch 38/100\n",
            "858/858 [==============================] - 2s 2ms/step - loss: 0.6912 - accuracy: 0.5320\n",
            "Epoch 39/100\n",
            "858/858 [==============================] - 2s 2ms/step - loss: 0.6912 - accuracy: 0.5320\n",
            "Epoch 40/100\n",
            "858/858 [==============================] - 2s 2ms/step - loss: 0.6912 - accuracy: 0.5320\n",
            "Epoch 41/100\n",
            "858/858 [==============================] - 2s 2ms/step - loss: 0.6912 - accuracy: 0.5320\n",
            "Epoch 42/100\n",
            "858/858 [==============================] - 2s 2ms/step - loss: 0.6912 - accuracy: 0.5320\n",
            "Epoch 43/100\n",
            "858/858 [==============================] - 2s 2ms/step - loss: 0.6912 - accuracy: 0.5320\n",
            "Epoch 44/100\n",
            "858/858 [==============================] - 2s 2ms/step - loss: 0.6912 - accuracy: 0.5320\n",
            "Epoch 45/100\n",
            "858/858 [==============================] - 2s 2ms/step - loss: 0.6913 - accuracy: 0.5320\n",
            "Epoch 46/100\n",
            "858/858 [==============================] - 2s 2ms/step - loss: 0.6913 - accuracy: 0.5320\n",
            "Epoch 47/100\n",
            "858/858 [==============================] - 2s 2ms/step - loss: 0.6913 - accuracy: 0.5320\n",
            "Epoch 48/100\n",
            "858/858 [==============================] - 2s 2ms/step - loss: 0.6913 - accuracy: 0.5320\n",
            "Epoch 49/100\n",
            "858/858 [==============================] - 2s 3ms/step - loss: 0.6914 - accuracy: 0.5320\n",
            "Epoch 50/100\n",
            "858/858 [==============================] - 2s 3ms/step - loss: 0.6912 - accuracy: 0.5320\n",
            "Epoch 51/100\n",
            "858/858 [==============================] - 2s 2ms/step - loss: 0.6912 - accuracy: 0.5320\n",
            "Epoch 52/100\n",
            "858/858 [==============================] - 2s 2ms/step - loss: 0.6914 - accuracy: 0.5320\n",
            "Epoch 53/100\n",
            "858/858 [==============================] - 2s 2ms/step - loss: 0.6914 - accuracy: 0.5320\n",
            "Epoch 54/100\n",
            "858/858 [==============================] - 2s 2ms/step - loss: 0.6913 - accuracy: 0.5320\n",
            "Epoch 55/100\n",
            "858/858 [==============================] - 3s 4ms/step - loss: 0.6913 - accuracy: 0.5320\n",
            "Epoch 56/100\n",
            "858/858 [==============================] - 5s 5ms/step - loss: 0.6912 - accuracy: 0.5315\n",
            "Epoch 57/100\n",
            "858/858 [==============================] - 3s 4ms/step - loss: 0.6912 - accuracy: 0.5320\n",
            "Epoch 58/100\n",
            "858/858 [==============================] - 5s 6ms/step - loss: 0.6912 - accuracy: 0.5320\n",
            "Epoch 59/100\n",
            "858/858 [==============================] - 5s 5ms/step - loss: 0.6912 - accuracy: 0.5320\n",
            "Epoch 60/100\n",
            "858/858 [==============================] - 3s 3ms/step - loss: 0.6913 - accuracy: 0.5320\n",
            "Epoch 61/100\n",
            "858/858 [==============================] - 2s 2ms/step - loss: 0.6913 - accuracy: 0.5320\n",
            "Epoch 62/100\n",
            "858/858 [==============================] - 2s 2ms/step - loss: 0.6913 - accuracy: 0.5320\n",
            "Epoch 63/100\n",
            "858/858 [==============================] - 2s 2ms/step - loss: 0.6913 - accuracy: 0.5320\n",
            "Epoch 64/100\n",
            "858/858 [==============================] - 2s 2ms/step - loss: 0.6913 - accuracy: 0.5320\n",
            "Epoch 65/100\n",
            "858/858 [==============================] - 2s 3ms/step - loss: 0.6912 - accuracy: 0.5320\n",
            "Epoch 66/100\n",
            "858/858 [==============================] - 2s 2ms/step - loss: 0.6912 - accuracy: 0.5320\n",
            "Epoch 67/100\n",
            "858/858 [==============================] - 2s 2ms/step - loss: 0.6912 - accuracy: 0.5320\n",
            "Epoch 68/100\n",
            "858/858 [==============================] - 2s 2ms/step - loss: 0.6913 - accuracy: 0.5320\n",
            "Epoch 69/100\n",
            "858/858 [==============================] - 2s 2ms/step - loss: 0.6913 - accuracy: 0.5320\n",
            "Epoch 70/100\n",
            "858/858 [==============================] - 2s 2ms/step - loss: 0.6912 - accuracy: 0.5320\n",
            "Epoch 71/100\n",
            "858/858 [==============================] - 2s 2ms/step - loss: 0.6912 - accuracy: 0.5320\n",
            "Epoch 72/100\n",
            "858/858 [==============================] - 2s 3ms/step - loss: 0.6913 - accuracy: 0.5320\n",
            "Epoch 73/100\n",
            "858/858 [==============================] - 2s 2ms/step - loss: 0.6913 - accuracy: 0.5320\n",
            "Epoch 74/100\n",
            "858/858 [==============================] - 2s 2ms/step - loss: 0.6912 - accuracy: 0.5320\n",
            "Epoch 75/100\n",
            "858/858 [==============================] - 2s 2ms/step - loss: 0.6912 - accuracy: 0.5320\n",
            "Epoch 76/100\n",
            "858/858 [==============================] - 2s 2ms/step - loss: 0.6913 - accuracy: 0.5320\n",
            "Epoch 77/100\n",
            "858/858 [==============================] - 2s 2ms/step - loss: 0.6913 - accuracy: 0.5320\n",
            "Epoch 78/100\n",
            "858/858 [==============================] - 2s 2ms/step - loss: 0.6913 - accuracy: 0.5320\n",
            "Epoch 79/100\n",
            "858/858 [==============================] - 2s 2ms/step - loss: 0.6912 - accuracy: 0.5320\n",
            "Epoch 80/100\n",
            "858/858 [==============================] - 2s 3ms/step - loss: 0.6913 - accuracy: 0.5320\n",
            "Epoch 81/100\n",
            "858/858 [==============================] - 2s 2ms/step - loss: 0.6913 - accuracy: 0.5320\n",
            "Epoch 82/100\n",
            "858/858 [==============================] - 2s 2ms/step - loss: 0.6912 - accuracy: 0.5320\n",
            "Epoch 83/100\n",
            "858/858 [==============================] - 2s 2ms/step - loss: 0.6913 - accuracy: 0.5320\n",
            "Epoch 84/100\n",
            "858/858 [==============================] - 2s 2ms/step - loss: 0.6912 - accuracy: 0.5320\n",
            "Epoch 85/100\n",
            "858/858 [==============================] - 2s 2ms/step - loss: 0.6913 - accuracy: 0.5320\n",
            "Epoch 86/100\n",
            "858/858 [==============================] - 2s 2ms/step - loss: 0.6913 - accuracy: 0.5320\n",
            "Epoch 87/100\n",
            "858/858 [==============================] - 2s 3ms/step - loss: 0.6913 - accuracy: 0.5320\n",
            "Epoch 88/100\n",
            "858/858 [==============================] - 2s 2ms/step - loss: 0.6913 - accuracy: 0.5320\n",
            "Epoch 89/100\n",
            "858/858 [==============================] - 2s 2ms/step - loss: 0.6913 - accuracy: 0.5320\n",
            "Epoch 90/100\n",
            "858/858 [==============================] - 2s 2ms/step - loss: 0.6912 - accuracy: 0.5320\n",
            "Epoch 91/100\n",
            "858/858 [==============================] - 2s 2ms/step - loss: 0.6913 - accuracy: 0.5320\n",
            "Epoch 92/100\n",
            "858/858 [==============================] - 2s 2ms/step - loss: 0.6912 - accuracy: 0.5320\n",
            "Epoch 93/100\n",
            "858/858 [==============================] - 2s 2ms/step - loss: 0.6913 - accuracy: 0.5320\n",
            "Epoch 94/100\n",
            "858/858 [==============================] - 2s 2ms/step - loss: 0.6912 - accuracy: 0.5320\n",
            "Epoch 95/100\n",
            "858/858 [==============================] - 2s 3ms/step - loss: 0.6912 - accuracy: 0.5320\n",
            "Epoch 96/100\n",
            "858/858 [==============================] - 2s 2ms/step - loss: 0.6913 - accuracy: 0.5320\n",
            "Epoch 97/100\n",
            "858/858 [==============================] - 2s 2ms/step - loss: 0.6913 - accuracy: 0.5320\n",
            "Epoch 98/100\n",
            "858/858 [==============================] - 2s 2ms/step - loss: 0.6913 - accuracy: 0.5320\n",
            "Epoch 99/100\n",
            "858/858 [==============================] - 2s 2ms/step - loss: 0.6913 - accuracy: 0.5320\n",
            "Epoch 100/100\n",
            "858/858 [==============================] - 2s 2ms/step - loss: 0.6913 - accuracy: 0.5320\n"
          ]
        }
      ],
      "source": [
        "# Train the model\n",
        "fit_model = nn_model.fit(X_train, y_train, epochs=100)"
      ]
    },
    {
      "cell_type": "code",
      "execution_count": 27,
      "metadata": {
        "id": "NCo2ibiRVw5e",
        "outputId": "2e30fac4-9e61-47c5-c424-d9bbd13fe56e",
        "colab": {
          "base_uri": "https://localhost:8080/"
        }
      },
      "outputs": [
        {
          "output_type": "stream",
          "name": "stdout",
          "text": [
            "215/215 - 1s - loss: 0.7353 - accuracy: 0.5841 - 598ms/epoch - 3ms/step\n",
            "Loss: 0.7352777719497681, Accuracy: 0.5841107964515686\n"
          ]
        }
      ],
      "source": [
        "# Evaluate the model using the test data\n",
        "model_loss, model_accuracy = nn_model.evaluate(X_test_scaled,y_test,verbose=2)\n",
        "print(f\"Loss: {model_loss}, Accuracy: {model_accuracy}\")"
      ]
    },
    {
      "cell_type": "code",
      "execution_count": null,
      "metadata": {
        "id": "oAuvs1-tVw5e"
      },
      "outputs": [],
      "source": [
        "# Export our model to HDF5 file\n",
        "model_file_path = 'AlphabetSoupCharity.h5'\n",
        "nn_model.save(model_file_path)"
      ]
    }
  ],
  "metadata": {
    "kernelspec": {
      "display_name": "Python 3",
      "language": "python",
      "name": "python3"
    },
    "language_info": {
      "codemirror_mode": {
        "name": "ipython",
        "version": 3
      },
      "file_extension": ".py",
      "mimetype": "text/x-python",
      "name": "python",
      "nbconvert_exporter": "python",
      "pygments_lexer": "ipython3",
      "version": "3.-1.-1"
    },
    "vscode": {
      "interpreter": {
        "hash": "31f2aee4e71d21fbe5cf8b01ff0e069b9275f58929596ceb00d14d90e3e16cd6"
      }
    },
    "colab": {
      "provenance": []
    }
  },
  "nbformat": 4,
  "nbformat_minor": 0
}