{
  "cells": [
    {
      "cell_type": "markdown",
      "metadata": {
        "id": "ZL0Yj4FxVw5C"
      },
      "source": [
        "## Preprocessing"
      ]
    },
    {
      "cell_type": "code",
      "execution_count": 56,
      "metadata": {
        "colab": {
          "base_uri": "https://localhost:8080/",
          "height": 250
        },
        "id": "OEZiC2U9Vw5L",
        "outputId": "a62af812-8e56-4413-9200-df0c3e16e155"
      },
      "outputs": [
        {
          "output_type": "execute_result",
          "data": {
            "text/plain": [
              "        EIN                                      NAME APPLICATION_TYPE  \\\n",
              "0  10520599              BLUE KNIGHTS MOTORCYCLE CLUB              T10   \n",
              "1  10531628    AMERICAN CHESAPEAKE CLUB CHARITABLE TR               T3   \n",
              "2  10547893        ST CLOUD PROFESSIONAL FIREFIGHTERS               T5   \n",
              "3  10553066            SOUTHSIDE ATHLETIC ASSOCIATION               T3   \n",
              "4  10556103  GENETIC RESEARCH INSTITUTE OF THE DESERT               T3   \n",
              "\n",
              "        AFFILIATION CLASSIFICATION      USE_CASE  ORGANIZATION  STATUS  \\\n",
              "0       Independent          C1000    ProductDev   Association       1   \n",
              "1       Independent          C2000  Preservation  Co-operative       1   \n",
              "2  CompanySponsored          C3000    ProductDev   Association       1   \n",
              "3  CompanySponsored          C2000  Preservation         Trust       1   \n",
              "4       Independent          C1000     Heathcare         Trust       1   \n",
              "\n",
              "      INCOME_AMT SPECIAL_CONSIDERATIONS  ASK_AMT  IS_SUCCESSFUL  \n",
              "0              0                      N     5000              1  \n",
              "1         1-9999                      N   108590              1  \n",
              "2              0                      N     5000              0  \n",
              "3    10000-24999                      N     6692              1  \n",
              "4  100000-499999                      N   142590              1  "
            ],
            "text/html": [
              "\n",
              "  <div id=\"df-9a0bd03c-4980-4ab9-84ee-e18cd611ba65\">\n",
              "    <div class=\"colab-df-container\">\n",
              "      <div>\n",
              "<style scoped>\n",
              "    .dataframe tbody tr th:only-of-type {\n",
              "        vertical-align: middle;\n",
              "    }\n",
              "\n",
              "    .dataframe tbody tr th {\n",
              "        vertical-align: top;\n",
              "    }\n",
              "\n",
              "    .dataframe thead th {\n",
              "        text-align: right;\n",
              "    }\n",
              "</style>\n",
              "<table border=\"1\" class=\"dataframe\">\n",
              "  <thead>\n",
              "    <tr style=\"text-align: right;\">\n",
              "      <th></th>\n",
              "      <th>EIN</th>\n",
              "      <th>NAME</th>\n",
              "      <th>APPLICATION_TYPE</th>\n",
              "      <th>AFFILIATION</th>\n",
              "      <th>CLASSIFICATION</th>\n",
              "      <th>USE_CASE</th>\n",
              "      <th>ORGANIZATION</th>\n",
              "      <th>STATUS</th>\n",
              "      <th>INCOME_AMT</th>\n",
              "      <th>SPECIAL_CONSIDERATIONS</th>\n",
              "      <th>ASK_AMT</th>\n",
              "      <th>IS_SUCCESSFUL</th>\n",
              "    </tr>\n",
              "  </thead>\n",
              "  <tbody>\n",
              "    <tr>\n",
              "      <th>0</th>\n",
              "      <td>10520599</td>\n",
              "      <td>BLUE KNIGHTS MOTORCYCLE CLUB</td>\n",
              "      <td>T10</td>\n",
              "      <td>Independent</td>\n",
              "      <td>C1000</td>\n",
              "      <td>ProductDev</td>\n",
              "      <td>Association</td>\n",
              "      <td>1</td>\n",
              "      <td>0</td>\n",
              "      <td>N</td>\n",
              "      <td>5000</td>\n",
              "      <td>1</td>\n",
              "    </tr>\n",
              "    <tr>\n",
              "      <th>1</th>\n",
              "      <td>10531628</td>\n",
              "      <td>AMERICAN CHESAPEAKE CLUB CHARITABLE TR</td>\n",
              "      <td>T3</td>\n",
              "      <td>Independent</td>\n",
              "      <td>C2000</td>\n",
              "      <td>Preservation</td>\n",
              "      <td>Co-operative</td>\n",
              "      <td>1</td>\n",
              "      <td>1-9999</td>\n",
              "      <td>N</td>\n",
              "      <td>108590</td>\n",
              "      <td>1</td>\n",
              "    </tr>\n",
              "    <tr>\n",
              "      <th>2</th>\n",
              "      <td>10547893</td>\n",
              "      <td>ST CLOUD PROFESSIONAL FIREFIGHTERS</td>\n",
              "      <td>T5</td>\n",
              "      <td>CompanySponsored</td>\n",
              "      <td>C3000</td>\n",
              "      <td>ProductDev</td>\n",
              "      <td>Association</td>\n",
              "      <td>1</td>\n",
              "      <td>0</td>\n",
              "      <td>N</td>\n",
              "      <td>5000</td>\n",
              "      <td>0</td>\n",
              "    </tr>\n",
              "    <tr>\n",
              "      <th>3</th>\n",
              "      <td>10553066</td>\n",
              "      <td>SOUTHSIDE ATHLETIC ASSOCIATION</td>\n",
              "      <td>T3</td>\n",
              "      <td>CompanySponsored</td>\n",
              "      <td>C2000</td>\n",
              "      <td>Preservation</td>\n",
              "      <td>Trust</td>\n",
              "      <td>1</td>\n",
              "      <td>10000-24999</td>\n",
              "      <td>N</td>\n",
              "      <td>6692</td>\n",
              "      <td>1</td>\n",
              "    </tr>\n",
              "    <tr>\n",
              "      <th>4</th>\n",
              "      <td>10556103</td>\n",
              "      <td>GENETIC RESEARCH INSTITUTE OF THE DESERT</td>\n",
              "      <td>T3</td>\n",
              "      <td>Independent</td>\n",
              "      <td>C1000</td>\n",
              "      <td>Heathcare</td>\n",
              "      <td>Trust</td>\n",
              "      <td>1</td>\n",
              "      <td>100000-499999</td>\n",
              "      <td>N</td>\n",
              "      <td>142590</td>\n",
              "      <td>1</td>\n",
              "    </tr>\n",
              "  </tbody>\n",
              "</table>\n",
              "</div>\n",
              "      <button class=\"colab-df-convert\" onclick=\"convertToInteractive('df-9a0bd03c-4980-4ab9-84ee-e18cd611ba65')\"\n",
              "              title=\"Convert this dataframe to an interactive table.\"\n",
              "              style=\"display:none;\">\n",
              "        \n",
              "  <svg xmlns=\"http://www.w3.org/2000/svg\" height=\"24px\"viewBox=\"0 0 24 24\"\n",
              "       width=\"24px\">\n",
              "    <path d=\"M0 0h24v24H0V0z\" fill=\"none\"/>\n",
              "    <path d=\"M18.56 5.44l.94 2.06.94-2.06 2.06-.94-2.06-.94-.94-2.06-.94 2.06-2.06.94zm-11 1L8.5 8.5l.94-2.06 2.06-.94-2.06-.94L8.5 2.5l-.94 2.06-2.06.94zm10 10l.94 2.06.94-2.06 2.06-.94-2.06-.94-.94-2.06-.94 2.06-2.06.94z\"/><path d=\"M17.41 7.96l-1.37-1.37c-.4-.4-.92-.59-1.43-.59-.52 0-1.04.2-1.43.59L10.3 9.45l-7.72 7.72c-.78.78-.78 2.05 0 2.83L4 21.41c.39.39.9.59 1.41.59.51 0 1.02-.2 1.41-.59l7.78-7.78 2.81-2.81c.8-.78.8-2.07 0-2.86zM5.41 20L4 18.59l7.72-7.72 1.47 1.35L5.41 20z\"/>\n",
              "  </svg>\n",
              "      </button>\n",
              "      \n",
              "  <style>\n",
              "    .colab-df-container {\n",
              "      display:flex;\n",
              "      flex-wrap:wrap;\n",
              "      gap: 12px;\n",
              "    }\n",
              "\n",
              "    .colab-df-convert {\n",
              "      background-color: #E8F0FE;\n",
              "      border: none;\n",
              "      border-radius: 50%;\n",
              "      cursor: pointer;\n",
              "      display: none;\n",
              "      fill: #1967D2;\n",
              "      height: 32px;\n",
              "      padding: 0 0 0 0;\n",
              "      width: 32px;\n",
              "    }\n",
              "\n",
              "    .colab-df-convert:hover {\n",
              "      background-color: #E2EBFA;\n",
              "      box-shadow: 0px 1px 2px rgba(60, 64, 67, 0.3), 0px 1px 3px 1px rgba(60, 64, 67, 0.15);\n",
              "      fill: #174EA6;\n",
              "    }\n",
              "\n",
              "    [theme=dark] .colab-df-convert {\n",
              "      background-color: #3B4455;\n",
              "      fill: #D2E3FC;\n",
              "    }\n",
              "\n",
              "    [theme=dark] .colab-df-convert:hover {\n",
              "      background-color: #434B5C;\n",
              "      box-shadow: 0px 1px 3px 1px rgba(0, 0, 0, 0.15);\n",
              "      filter: drop-shadow(0px 1px 2px rgba(0, 0, 0, 0.3));\n",
              "      fill: #FFFFFF;\n",
              "    }\n",
              "  </style>\n",
              "\n",
              "      <script>\n",
              "        const buttonEl =\n",
              "          document.querySelector('#df-9a0bd03c-4980-4ab9-84ee-e18cd611ba65 button.colab-df-convert');\n",
              "        buttonEl.style.display =\n",
              "          google.colab.kernel.accessAllowed ? 'block' : 'none';\n",
              "\n",
              "        async function convertToInteractive(key) {\n",
              "          const element = document.querySelector('#df-9a0bd03c-4980-4ab9-84ee-e18cd611ba65');\n",
              "          const dataTable =\n",
              "            await google.colab.kernel.invokeFunction('convertToInteractive',\n",
              "                                                     [key], {});\n",
              "          if (!dataTable) return;\n",
              "\n",
              "          const docLinkHtml = 'Like what you see? Visit the ' +\n",
              "            '<a target=\"_blank\" href=https://colab.research.google.com/notebooks/data_table.ipynb>data table notebook</a>'\n",
              "            + ' to learn more about interactive tables.';\n",
              "          element.innerHTML = '';\n",
              "          dataTable['output_type'] = 'display_data';\n",
              "          await google.colab.output.renderOutput(dataTable, element);\n",
              "          const docLink = document.createElement('div');\n",
              "          docLink.innerHTML = docLinkHtml;\n",
              "          element.appendChild(docLink);\n",
              "        }\n",
              "      </script>\n",
              "    </div>\n",
              "  </div>\n",
              "  "
            ]
          },
          "metadata": {},
          "execution_count": 56
        }
      ],
      "source": [
        "# Import our dependencies\n",
        "from sklearn.model_selection import train_test_split\n",
        "from sklearn.preprocessing import StandardScaler\n",
        "import pandas as pd\n",
        "import tensorflow as tf\n",
        "\n",
        "#  Import and read the charity_data.csv.\n",
        "import pandas as pd \n",
        "application_df = pd.read_csv(\"https://static.bc-edx.com/data/dl-1-2/m21/lms/starter/charity_data.csv\")\n",
        "application_df.head()"
      ]
    },
    {
      "cell_type": "code",
      "execution_count": 57,
      "metadata": {
        "id": "l4hnUvSwVw5P"
      },
      "outputs": [],
      "source": [
        "# Drop the non-beneficial ID columns, 'EIN' and 'NAME'.\n",
        "application_df = application_df.drop(columns=['EIN','NAME','USE_CASE'])"
      ]
    },
    {
      "cell_type": "code",
      "execution_count": 58,
      "metadata": {
        "colab": {
          "base_uri": "https://localhost:8080/"
        },
        "id": "JXDh2z9CVw5Q",
        "outputId": "2461c715-55dd-489c-d179-9f688b245db4"
      },
      "outputs": [
        {
          "output_type": "execute_result",
          "data": {
            "text/plain": [
              "APPLICATION_TYPE            17\n",
              "AFFILIATION                  6\n",
              "CLASSIFICATION              71\n",
              "ORGANIZATION                 4\n",
              "STATUS                       2\n",
              "INCOME_AMT                   9\n",
              "SPECIAL_CONSIDERATIONS       2\n",
              "ASK_AMT                   8747\n",
              "IS_SUCCESSFUL                2\n",
              "dtype: int64"
            ]
          },
          "metadata": {},
          "execution_count": 58
        }
      ],
      "source": [
        "# Determine the number of unique values in each column.\n",
        "unique_counts = application_df.nunique()\n",
        "unique_counts"
      ]
    },
    {
      "cell_type": "code",
      "execution_count": 59,
      "metadata": {
        "colab": {
          "base_uri": "https://localhost:8080/"
        },
        "id": "VzDIbFPeVw5R",
        "outputId": "0b433aff-5a71-4edf-b518-923e13627bab"
      },
      "outputs": [
        {
          "output_type": "stream",
          "name": "stdout",
          "text": [
            "T3     27037\n",
            "T4      1542\n",
            "T6      1216\n",
            "T5      1173\n",
            "T19     1065\n",
            "T8       737\n",
            "T7       725\n",
            "T10      528\n",
            "T9       156\n",
            "T13       66\n",
            "T12       27\n",
            "T2        16\n",
            "T25        3\n",
            "T14        3\n",
            "T29        2\n",
            "T15        2\n",
            "T17        1\n",
            "Name: APPLICATION_TYPE, dtype: int64\n"
          ]
        }
      ],
      "source": [
        "# Look at APPLICATION_TYPE value counts for binning\n",
        "application_counts = application_df['APPLICATION_TYPE'].value_counts()\n",
        "print(application_counts)"
      ]
    },
    {
      "cell_type": "code",
      "execution_count": 60,
      "metadata": {
        "id": "E_DvA0-OVw5S",
        "outputId": "4e72b62c-663a-402c-b154-35a39d5db9f5",
        "colab": {
          "base_uri": "https://localhost:8080/"
        }
      },
      "outputs": [
        {
          "output_type": "execute_result",
          "data": {
            "text/plain": [
              "T3       27037\n",
              "Other     2266\n",
              "T4        1542\n",
              "T6        1216\n",
              "T5        1173\n",
              "T19       1065\n",
              "Name: APPLICATION_TYPE, dtype: int64"
            ]
          },
          "metadata": {},
          "execution_count": 60
        }
      ],
      "source": [
        "# Choose a cutoff value and create a list of application types to be replaced\n",
        "# use the variable name `application_types_to_replace`\n",
        "cutoff_value = 1000\n",
        "application_types_to_replace = application_counts[application_counts <= cutoff_value].index\n",
        "\n",
        "# Replace in dataframe\n",
        "for app in application_types_to_replace:\n",
        "    application_df['APPLICATION_TYPE'] = application_df['APPLICATION_TYPE'].replace(app,\"Other\")\n",
        "\n",
        "# Check to make sure binning was successful\n",
        "application_df['APPLICATION_TYPE'].value_counts()"
      ]
    },
    {
      "cell_type": "code",
      "execution_count": 61,
      "metadata": {
        "id": "TQCgQQg9Vw5S",
        "outputId": "4dded693-2409-4158-a89a-da2b8a71f8db",
        "colab": {
          "base_uri": "https://localhost:8080/"
        }
      },
      "outputs": [
        {
          "output_type": "stream",
          "name": "stdout",
          "text": [
            "C1000    17326\n",
            "C2000     6074\n",
            "C1200     4837\n",
            "C3000     1918\n",
            "C2100     1883\n",
            "         ...  \n",
            "C4120        1\n",
            "C8210        1\n",
            "C2561        1\n",
            "C4500        1\n",
            "C2150        1\n",
            "Name: CLASSIFICATION, Length: 71, dtype: int64\n"
          ]
        }
      ],
      "source": [
        "# Look at CLASSIFICATION value counts for binning\n",
        "classification_counts = application_df['CLASSIFICATION'].value_counts()\n",
        "print(classification_counts)"
      ]
    },
    {
      "cell_type": "code",
      "execution_count": 62,
      "metadata": {
        "id": "jhCYWgayVw5T",
        "outputId": "d24a3c1b-b841-40fa-e82f-4597300006be",
        "colab": {
          "base_uri": "https://localhost:8080/"
        }
      },
      "outputs": [
        {
          "output_type": "stream",
          "name": "stdout",
          "text": [
            "C1000    17326\n",
            "C2000     6074\n",
            "C1200     4837\n",
            "C3000     1918\n",
            "C2100     1883\n",
            "C7000      777\n",
            "C1700      287\n",
            "C4000      194\n",
            "C5000      116\n",
            "C1270      114\n",
            "C2700      104\n",
            "C2800       95\n",
            "C7100       75\n",
            "C1300       58\n",
            "C1280       50\n",
            "C1230       36\n",
            "C1400       34\n",
            "C7200       32\n",
            "C2300       32\n",
            "C1240       30\n",
            "C8000       20\n",
            "C7120       18\n",
            "C1500       16\n",
            "C1800       15\n",
            "C6000       15\n",
            "C1250       14\n",
            "C8200       11\n",
            "C1238       10\n",
            "C1278       10\n",
            "C1235        9\n",
            "C1237        9\n",
            "C7210        7\n",
            "C2400        6\n",
            "C1720        6\n",
            "C4100        6\n",
            "C1257        5\n",
            "C1600        5\n",
            "C1260        3\n",
            "C2710        3\n",
            "C0           3\n",
            "C3200        2\n",
            "C1234        2\n",
            "C1246        2\n",
            "C1267        2\n",
            "C1256        2\n",
            "Name: CLASSIFICATION, dtype: int64\n"
          ]
        }
      ],
      "source": [
        "# You may find it helpful to look at CLASSIFICATION value counts >1\n",
        "filtered_classification_counts = classification_counts[classification_counts > 1]\n",
        "print(filtered_classification_counts)"
      ]
    },
    {
      "cell_type": "code",
      "execution_count": 63,
      "metadata": {
        "id": "Q5cGaapDVw5U",
        "outputId": "fa77a92a-2677-4949-df76-f3a9774f843f",
        "colab": {
          "base_uri": "https://localhost:8080/"
        }
      },
      "outputs": [
        {
          "output_type": "execute_result",
          "data": {
            "text/plain": [
              "C1000    17326\n",
              "C2000     6074\n",
              "C1200     4837\n",
              "Other     2261\n",
              "C3000     1918\n",
              "C2100     1883\n",
              "Name: CLASSIFICATION, dtype: int64"
            ]
          },
          "metadata": {},
          "execution_count": 63
        }
      ],
      "source": [
        "# Choose a cutoff value and create a list of classifications to be replaced\n",
        "# use the variable name `classifications_to_replace`\n",
        "cutoff_value_classification = 1000\n",
        "classifications_to_replace = classification_counts[classification_counts <= cutoff_value_classification].index\n",
        "\n",
        "# Replace in dataframe\n",
        "for cls in classifications_to_replace:\n",
        "    application_df['CLASSIFICATION'] = application_df['CLASSIFICATION'].replace(cls,\"Other\")\n",
        "    \n",
        "# Check to make sure binning was successful\n",
        "application_df['CLASSIFICATION'].value_counts()"
      ]
    },
    {
      "cell_type": "code",
      "execution_count": 64,
      "metadata": {
        "id": "bgITflP2Vw5W"
      },
      "outputs": [],
      "source": [
        "# Convert categorical data to numeric with `pd.get_dummies`\n",
        "dummy_data = pd.get_dummies(application_df, columns=['APPLICATION_TYPE','AFFILIATION','CLASSIFICATION','SPECIAL_CONSIDERATIONS','ORGANIZATION','INCOME_AMT'])"
      ]
    },
    {
      "cell_type": "code",
      "execution_count": 65,
      "metadata": {
        "id": "o88CZyhUVw5X"
      },
      "outputs": [],
      "source": [
        "# Split our preprocessed data into our features and target arrays\n",
        "features = dummy_data.drop('IS_SUCCESSFUL', axis=1)\n",
        "target = dummy_data['IS_SUCCESSFUL']\n",
        "\n",
        "# Split the preprocessed data into a training and testing dataset\n",
        "X_train, X_test, y_train, y_test = train_test_split(features, target, test_size=0.2, random_state=42)"
      ]
    },
    {
      "cell_type": "code",
      "execution_count": 66,
      "metadata": {
        "id": "CibSoVkVVw5Z"
      },
      "outputs": [],
      "source": [
        "# Create a StandardScaler instances\n",
        "scaler = StandardScaler()\n",
        "\n",
        "# Fit the StandardScaler\n",
        "X_scaler = scaler.fit(X_train)\n",
        "\n",
        "# Scale the data\n",
        "X_train_scaled = X_scaler.transform(X_train)\n",
        "X_test_scaled = X_scaler.transform(X_test)"
      ]
    },
    {
      "cell_type": "markdown",
      "metadata": {
        "id": "MhHSz7jHVw5a"
      },
      "source": [
        "## Compile, Train and Evaluate the Model"
      ]
    },
    {
      "cell_type": "code",
      "execution_count": 67,
      "metadata": {
        "id": "6tmnpIa9Vw5b",
        "outputId": "f876bcde-608c-48c5-e25b-77a88e8c2481",
        "colab": {
          "base_uri": "https://localhost:8080/"
        }
      },
      "outputs": [
        {
          "output_type": "stream",
          "name": "stdout",
          "text": [
            "Model: \"sequential_6\"\n",
            "_________________________________________________________________\n",
            " Layer (type)                Output Shape              Param #   \n",
            "=================================================================\n",
            " dense_25 (Dense)            (None, 80)                2880      \n",
            "                                                                 \n",
            " dense_26 (Dense)            (None, 40)                3240      \n",
            "                                                                 \n",
            " dense_27 (Dense)            (None, 60)                2520      \n",
            "                                                                 \n",
            " dense_28 (Dense)            (None, 10)                610       \n",
            "                                                                 \n",
            " dense_29 (Dense)            (None, 1)                 11        \n",
            "                                                                 \n",
            "=================================================================\n",
            "Total params: 9,261\n",
            "Trainable params: 9,261\n",
            "Non-trainable params: 0\n",
            "_________________________________________________________________\n"
          ]
        }
      ],
      "source": [
        "# Define the model - deep neural net, i.e., the number of input features and hidden nodes for each layer.\n",
        "\n",
        "nn_model = tf.keras.models.Sequential()\n",
        "\n",
        "# First hidden layer\n",
        "nn_model.add(tf.keras.layers.Dense(units=80, activation=\"relu\", input_dim=35))\n",
        "\n",
        "# Second hidden layer\n",
        "nn_model.add(tf.keras.layers.Dense(units=40, activation=\"relu\"))\n",
        "\n",
        "# Third hidden layer\n",
        "nn_model.add(tf.keras.layers.Dense(units=60, activation=\"PReLU\"))\n",
        "\n",
        "# Fourth hidden Layer\n",
        "nn_model.add(tf.keras.layers.Dense(units=10, activation=\"relu\"))\n",
        "\n",
        "# Output layer\n",
        "nn_model.add(tf.keras.layers.Dense(units=1, activation=\"sigmoid\"))\n",
        "\n",
        "# Check the structure of the model\n",
        "nn_model.summary()"
      ]
    },
    {
      "cell_type": "code",
      "execution_count": 68,
      "metadata": {
        "id": "c-V3RH6cVw5c"
      },
      "outputs": [],
      "source": [
        "# Compile the model\n",
        "nn_model.compile(loss=\"binary_crossentropy\", optimizer=\"adam\", metrics=[\"accuracy\"])"
      ]
    },
    {
      "cell_type": "code",
      "execution_count": 69,
      "metadata": {
        "id": "0q_dwGavVw5d",
        "outputId": "35050178-d8c0-41b8-d559-875c388963ec",
        "colab": {
          "base_uri": "https://localhost:8080/"
        }
      },
      "outputs": [
        {
          "output_type": "stream",
          "name": "stdout",
          "text": [
            "Epoch 1/80\n",
            "858/858 [==============================] - 3s 2ms/step - loss: 39086.8359 - accuracy: 0.4893\n",
            "Epoch 2/80\n",
            "858/858 [==============================] - 3s 3ms/step - loss: 4663.0288 - accuracy: 0.4966\n",
            "Epoch 3/80\n",
            "858/858 [==============================] - 2s 2ms/step - loss: 1753.7878 - accuracy: 0.4981\n",
            "Epoch 4/80\n",
            "858/858 [==============================] - 2s 2ms/step - loss: 1878.4651 - accuracy: 0.5080\n",
            "Epoch 5/80\n",
            "858/858 [==============================] - 2s 2ms/step - loss: 0.6929 - accuracy: 0.5320\n",
            "Epoch 6/80\n",
            "858/858 [==============================] - 2s 2ms/step - loss: 0.6912 - accuracy: 0.5320\n",
            "Epoch 7/80\n",
            "858/858 [==============================] - 2s 2ms/step - loss: 0.6911 - accuracy: 0.5320\n",
            "Epoch 8/80\n",
            "858/858 [==============================] - 2s 3ms/step - loss: 0.6912 - accuracy: 0.5320\n",
            "Epoch 9/80\n",
            "858/858 [==============================] - 3s 3ms/step - loss: 0.6911 - accuracy: 0.5320\n",
            "Epoch 10/80\n",
            "858/858 [==============================] - 2s 2ms/step - loss: 0.6912 - accuracy: 0.5320\n",
            "Epoch 11/80\n",
            "858/858 [==============================] - 2s 2ms/step - loss: 0.6912 - accuracy: 0.5320\n",
            "Epoch 12/80\n",
            "858/858 [==============================] - 2s 2ms/step - loss: 0.6912 - accuracy: 0.5320\n",
            "Epoch 13/80\n",
            "858/858 [==============================] - 2s 2ms/step - loss: 0.6912 - accuracy: 0.5320\n",
            "Epoch 14/80\n",
            "858/858 [==============================] - 2s 2ms/step - loss: 0.6912 - accuracy: 0.5320\n",
            "Epoch 15/80\n",
            "858/858 [==============================] - 3s 3ms/step - loss: 0.6912 - accuracy: 0.5320\n",
            "Epoch 16/80\n",
            "858/858 [==============================] - 2s 2ms/step - loss: 0.6912 - accuracy: 0.5320\n",
            "Epoch 17/80\n",
            "858/858 [==============================] - 2s 2ms/step - loss: 0.6911 - accuracy: 0.5320\n",
            "Epoch 18/80\n",
            "858/858 [==============================] - 2s 2ms/step - loss: 0.6912 - accuracy: 0.5320\n",
            "Epoch 19/80\n",
            "858/858 [==============================] - 2s 2ms/step - loss: 0.6912 - accuracy: 0.5320\n",
            "Epoch 20/80\n",
            "858/858 [==============================] - 2s 2ms/step - loss: 0.6912 - accuracy: 0.5320\n",
            "Epoch 21/80\n",
            "858/858 [==============================] - 2s 3ms/step - loss: 0.6911 - accuracy: 0.5320\n",
            "Epoch 22/80\n",
            "858/858 [==============================] - 2s 3ms/step - loss: 0.6912 - accuracy: 0.5320\n",
            "Epoch 23/80\n",
            "858/858 [==============================] - 2s 2ms/step - loss: 0.6912 - accuracy: 0.5320\n",
            "Epoch 24/80\n",
            "858/858 [==============================] - 2s 2ms/step - loss: 0.6913 - accuracy: 0.5320\n",
            "Epoch 25/80\n",
            "858/858 [==============================] - 2s 2ms/step - loss: 0.6912 - accuracy: 0.5320\n",
            "Epoch 26/80\n",
            "858/858 [==============================] - 2s 2ms/step - loss: 0.6912 - accuracy: 0.5320\n",
            "Epoch 27/80\n",
            "858/858 [==============================] - 2s 2ms/step - loss: 0.6912 - accuracy: 0.5320\n",
            "Epoch 28/80\n",
            "858/858 [==============================] - 3s 3ms/step - loss: 0.6912 - accuracy: 0.5320\n",
            "Epoch 29/80\n",
            "858/858 [==============================] - 3s 3ms/step - loss: 0.6912 - accuracy: 0.5320\n",
            "Epoch 30/80\n",
            "858/858 [==============================] - 2s 3ms/step - loss: 0.6913 - accuracy: 0.5320\n",
            "Epoch 31/80\n",
            "858/858 [==============================] - 2s 2ms/step - loss: 0.6913 - accuracy: 0.5320\n",
            "Epoch 32/80\n",
            "858/858 [==============================] - 2s 2ms/step - loss: 0.6912 - accuracy: 0.5320\n",
            "Epoch 33/80\n",
            "858/858 [==============================] - 2s 2ms/step - loss: 0.6913 - accuracy: 0.5320\n",
            "Epoch 34/80\n",
            "858/858 [==============================] - 3s 3ms/step - loss: 0.6912 - accuracy: 0.5320\n",
            "Epoch 35/80\n",
            "858/858 [==============================] - 2s 2ms/step - loss: 0.6913 - accuracy: 0.5320\n",
            "Epoch 36/80\n",
            "858/858 [==============================] - 2s 2ms/step - loss: 0.6913 - accuracy: 0.5320\n",
            "Epoch 37/80\n",
            "858/858 [==============================] - 2s 2ms/step - loss: 0.6913 - accuracy: 0.5320\n",
            "Epoch 38/80\n",
            "858/858 [==============================] - 2s 2ms/step - loss: 0.6913 - accuracy: 0.5320\n",
            "Epoch 39/80\n",
            "858/858 [==============================] - 2s 2ms/step - loss: 0.6912 - accuracy: 0.5320\n",
            "Epoch 40/80\n",
            "858/858 [==============================] - 2s 3ms/step - loss: 0.6913 - accuracy: 0.5320\n",
            "Epoch 41/80\n",
            "858/858 [==============================] - 2s 3ms/step - loss: 0.6913 - accuracy: 0.5320\n",
            "Epoch 42/80\n",
            "858/858 [==============================] - 2s 2ms/step - loss: 0.6913 - accuracy: 0.5320\n",
            "Epoch 43/80\n",
            "858/858 [==============================] - 2s 2ms/step - loss: 0.6913 - accuracy: 0.5320\n",
            "Epoch 44/80\n",
            "858/858 [==============================] - 2s 2ms/step - loss: 0.6913 - accuracy: 0.5320\n",
            "Epoch 45/80\n",
            "858/858 [==============================] - 2s 2ms/step - loss: 0.6913 - accuracy: 0.5320\n",
            "Epoch 46/80\n",
            "858/858 [==============================] - 2s 2ms/step - loss: 0.6912 - accuracy: 0.5320\n",
            "Epoch 47/80\n",
            "858/858 [==============================] - 3s 3ms/step - loss: 0.6913 - accuracy: 0.5320\n",
            "Epoch 48/80\n",
            "858/858 [==============================] - 2s 2ms/step - loss: 0.6913 - accuracy: 0.5320\n",
            "Epoch 49/80\n",
            "858/858 [==============================] - 2s 2ms/step - loss: 0.6912 - accuracy: 0.5320\n",
            "Epoch 50/80\n",
            "858/858 [==============================] - 2s 2ms/step - loss: 0.6912 - accuracy: 0.5320\n",
            "Epoch 51/80\n",
            "858/858 [==============================] - 2s 2ms/step - loss: 0.6914 - accuracy: 0.5320\n",
            "Epoch 52/80\n",
            "858/858 [==============================] - 2s 2ms/step - loss: 0.6913 - accuracy: 0.5320\n",
            "Epoch 53/80\n",
            "858/858 [==============================] - 2s 3ms/step - loss: 0.6913 - accuracy: 0.5320\n",
            "Epoch 54/80\n",
            "858/858 [==============================] - 2s 3ms/step - loss: 0.6913 - accuracy: 0.5320\n",
            "Epoch 55/80\n",
            "858/858 [==============================] - 2s 2ms/step - loss: 0.6912 - accuracy: 0.5320\n",
            "Epoch 56/80\n",
            "858/858 [==============================] - 2s 2ms/step - loss: 0.6912 - accuracy: 0.5320\n",
            "Epoch 57/80\n",
            "858/858 [==============================] - 2s 2ms/step - loss: 0.6914 - accuracy: 0.5320\n",
            "Epoch 58/80\n",
            "858/858 [==============================] - 2s 2ms/step - loss: 0.6911 - accuracy: 0.5320\n",
            "Epoch 59/80\n",
            "858/858 [==============================] - 2s 2ms/step - loss: 0.6914 - accuracy: 0.5320\n",
            "Epoch 60/80\n",
            "858/858 [==============================] - 3s 3ms/step - loss: 0.6913 - accuracy: 0.5320\n",
            "Epoch 61/80\n",
            "858/858 [==============================] - 2s 2ms/step - loss: 0.6913 - accuracy: 0.5320\n",
            "Epoch 62/80\n",
            "858/858 [==============================] - 2s 2ms/step - loss: 0.6911 - accuracy: 0.5320\n",
            "Epoch 63/80\n",
            "858/858 [==============================] - 2s 2ms/step - loss: 0.6912 - accuracy: 0.5320\n",
            "Epoch 64/80\n",
            "858/858 [==============================] - 2s 2ms/step - loss: 0.6912 - accuracy: 0.5320\n",
            "Epoch 65/80\n",
            "858/858 [==============================] - 2s 2ms/step - loss: 0.6913 - accuracy: 0.5320\n",
            "Epoch 66/80\n",
            "858/858 [==============================] - 2s 3ms/step - loss: 0.6912 - accuracy: 0.5320\n",
            "Epoch 67/80\n",
            "858/858 [==============================] - 2s 3ms/step - loss: 0.6912 - accuracy: 0.5320\n",
            "Epoch 68/80\n",
            "858/858 [==============================] - 2s 2ms/step - loss: 0.6912 - accuracy: 0.5320\n",
            "Epoch 69/80\n",
            "858/858 [==============================] - 2s 2ms/step - loss: 0.6912 - accuracy: 0.5320\n",
            "Epoch 70/80\n",
            "858/858 [==============================] - 2s 2ms/step - loss: 0.6913 - accuracy: 0.5320\n",
            "Epoch 71/80\n",
            "858/858 [==============================] - 2s 2ms/step - loss: 0.6912 - accuracy: 0.5320\n",
            "Epoch 72/80\n",
            "858/858 [==============================] - 2s 2ms/step - loss: 0.6913 - accuracy: 0.5320\n",
            "Epoch 73/80\n",
            "858/858 [==============================] - 3s 3ms/step - loss: 0.6912 - accuracy: 0.5320\n",
            "Epoch 74/80\n",
            "858/858 [==============================] - 2s 2ms/step - loss: 0.6912 - accuracy: 0.5320\n",
            "Epoch 75/80\n",
            "858/858 [==============================] - 2s 2ms/step - loss: 0.6912 - accuracy: 0.5320\n",
            "Epoch 76/80\n",
            "858/858 [==============================] - 2s 2ms/step - loss: 0.6912 - accuracy: 0.5320\n",
            "Epoch 77/80\n",
            "858/858 [==============================] - 2s 2ms/step - loss: 0.6912 - accuracy: 0.5320\n",
            "Epoch 78/80\n",
            "858/858 [==============================] - 2s 2ms/step - loss: 0.6911 - accuracy: 0.5320\n",
            "Epoch 79/80\n",
            "858/858 [==============================] - 3s 4ms/step - loss: 0.6912 - accuracy: 0.5320\n",
            "Epoch 80/80\n",
            "858/858 [==============================] - 2s 2ms/step - loss: 0.6912 - accuracy: 0.5320\n"
          ]
        }
      ],
      "source": [
        "# Train the model\n",
        "fit_model = nn_model.fit(X_train, y_train, epochs=80)"
      ]
    },
    {
      "cell_type": "code",
      "execution_count": 70,
      "metadata": {
        "id": "NCo2ibiRVw5e",
        "outputId": "bf678b44-0d0b-4630-ec99-c2d591a3422c",
        "colab": {
          "base_uri": "https://localhost:8080/"
        }
      },
      "outputs": [
        {
          "output_type": "stream",
          "name": "stdout",
          "text": [
            "215/215 - 1s - loss: 0.6960 - accuracy: 0.5328 - 501ms/epoch - 2ms/step\n",
            "Loss: 0.6960468292236328, Accuracy: 0.5327988266944885\n"
          ]
        }
      ],
      "source": [
        "# Evaluate the model using the test data\n",
        "model_loss, model_accuracy = nn_model.evaluate(X_test_scaled,y_test,verbose=2)\n",
        "print(f\"Loss: {model_loss}, Accuracy: {model_accuracy}\")"
      ]
    },
    {
      "cell_type": "code",
      "execution_count": 71,
      "metadata": {
        "id": "oAuvs1-tVw5e"
      },
      "outputs": [],
      "source": [
        "# Export our model to HDF5 file\n",
        "model_file_path = 'AlphabetSoupCharity_Optimization.h5'\n",
        "nn_model.save(model_file_path)"
      ]
    }
  ],
  "metadata": {
    "kernelspec": {
      "display_name": "Python 3",
      "language": "python",
      "name": "python3"
    },
    "language_info": {
      "codemirror_mode": {
        "name": "ipython",
        "version": 3
      },
      "file_extension": ".py",
      "mimetype": "text/x-python",
      "name": "python",
      "nbconvert_exporter": "python",
      "pygments_lexer": "ipython3",
      "version": "3.-1.-1"
    },
    "vscode": {
      "interpreter": {
        "hash": "31f2aee4e71d21fbe5cf8b01ff0e069b9275f58929596ceb00d14d90e3e16cd6"
      }
    },
    "colab": {
      "provenance": []
    }
  },
  "nbformat": 4,
  "nbformat_minor": 0
}